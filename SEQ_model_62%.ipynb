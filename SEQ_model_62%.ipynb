{
  "nbformat": 4,
  "nbformat_minor": 0,
  "metadata": {
    "colab": {
      "name": "SEQ7_Dense!",
      "version": "0.3.2",
      "provenance": []
    },
    "kernelspec": {
      "name": "python3",
      "display_name": "Python 3"
    },
    "accelerator": "GPU"
  },
  "cells": [
    {
      "metadata": {
        "id": "Xi7wbP_VdeeF",
        "colab_type": "code",
        "colab": {}
      },
      "cell_type": "code",
      "source": [
        "!pip install -U -q PyDrive\n",
        "from pydrive.auth import GoogleAuth\n",
        "from pydrive.drive import GoogleDrive\n",
        "from google.colab import auth\n",
        "from oauth2client.client import GoogleCredentials\n",
        "\n",
        "\n",
        "auth.authenticate_user()\n",
        "gauth = GoogleAuth()\n",
        "gauth.credentials = GoogleCredentials.get_application_default()\n",
        "drive = GoogleDrive(gauth)"
      ],
      "execution_count": 0,
      "outputs": []
    },
    {
      "metadata": {
        "id": "dau4La8Rx10s",
        "colab_type": "text"
      },
      "cell_type": "markdown",
      "source": [
        "### **get dateset from google drive**"
      ]
    },
    {
      "metadata": {
        "id": "0DnJtFdWdh0a",
        "colab_type": "code",
        "colab": {}
      },
      "cell_type": "code",
      "source": [
        "#list(drive.ListFile())\n",
        "file_id = '1wj5EXCBZ9wyzxYoyHk3XHuvV2ZZSTGAb' #Maryam\n",
        "#file_id = '1QHq13EfkJHYWhve0-zh_IAQ1U5GDCIoX' #Tahere\n",
        "downloaded = drive.CreateFile({'id': file_id})\n",
        "downloaded.GetContentFile('fer2013.csv') "
      ],
      "execution_count": 0,
      "outputs": []
    },
    {
      "metadata": {
        "id": "XtfX0fr9x-Ba",
        "colab_type": "text"
      },
      "cell_type": "markdown",
      "source": [
        "### **import requirements**"
      ]
    },
    {
      "metadata": {
        "id": "hjsKyz6AdwPo",
        "colab_type": "code",
        "colab": {
          "base_uri": "https://localhost:8080/",
          "height": 34
        },
        "outputId": "cf74df61-488f-465d-f2bd-92667b00dc51"
      },
      "cell_type": "code",
      "source": [
        "import pandas as pd\n",
        "import numpy as np\n",
        "from matplotlib import pyplot as plt\n",
        "import numpy as np\n",
        "import keras\n",
        "from keras import layers\n",
        "from keras.layers import Input, Add, Dense, Activation, ZeroPadding2D, BatchNormalization, Flatten, Conv2D, AveragePooling2D, MaxPooling2D, GlobalMaxPooling2D\n",
        "from keras.models import Model, load_model\n",
        "from keras.preprocessing import image\n",
        "from keras.utils import layer_utils\n",
        "from keras.utils.data_utils import get_file\n",
        "from keras.applications.imagenet_utils import preprocess_input\n",
        "from IPython.display import SVG\n",
        "from keras.utils.vis_utils import model_to_dot\n",
        "from keras.utils import plot_model\n",
        "from keras.initializers import glorot_uniform\n",
        "from keras.utils import to_categorical\n",
        "import scipy.misc\n",
        "from matplotlib.pyplot import imshow\n",
        "%matplotlib inline\n",
        "import keras.backend as K\n",
        "from keras.models import Sequential\n",
        "from keras.layers import Dense, Activation, Conv2D, MaxPooling2D, Flatten, Dropout, GlobalAveragePooling2D\n",
        "from keras import backend as K\n",
        "import keras\n",
        "from __future__ import print_function\n",
        "from keras.preprocessing.image import ImageDataGenerator\n",
        "from keras.layers.normalization import BatchNormalization\n",
        "from keras.layers.convolutional import *\n",
        "from keras import optimizers\n",
        "from sklearn.metrics import confusion_matrix\n",
        "import itertools\n",
        "from google.colab import files\n",
        "import h5py\n",
        "from keras.optimizers import SGD\n",
        "from keras.callbacks import ModelCheckpoint, EarlyStopping"
      ],
      "execution_count": 3,
      "outputs": [
        {
          "output_type": "stream",
          "text": [
            "Using TensorFlow backend.\n"
          ],
          "name": "stderr"
        }
      ]
    },
    {
      "metadata": {
        "id": "4vCEJMtFxo2V",
        "colab_type": "text"
      },
      "cell_type": "markdown",
      "source": [
        "### **load the dateset into a dataframe**"
      ]
    },
    {
      "metadata": {
        "id": "CKhJ_VRCdyhq",
        "colab_type": "code",
        "colab": {
          "base_uri": "https://localhost:8080/",
          "height": 72
        },
        "outputId": "d5e8d6cd-f884-4d3c-88e6-3723fd911f6d"
      },
      "cell_type": "code",
      "source": [
        "df = pd.DataFrame.from_csv('fer2013.csv', index_col=None)"
      ],
      "execution_count": 4,
      "outputs": [
        {
          "output_type": "stream",
          "text": [
            "/usr/local/lib/python3.6/dist-packages/ipykernel_launcher.py:1: FutureWarning: from_csv is deprecated. Please use read_csv(...) instead. Note that some of the default arguments are different, so please refer to the documentation for from_csv when changing your function calls\n",
            "  \"\"\"Entry point for launching an IPython kernel.\n"
          ],
          "name": "stderr"
        }
      ]
    },
    {
      "metadata": {
        "id": "xobEaAae_hZY",
        "colab_type": "text"
      },
      "cell_type": "markdown",
      "source": [
        "### split dataset"
      ]
    },
    {
      "metadata": {
        "id": "tZowgGqYd06C",
        "colab_type": "code",
        "colab": {
          "base_uri": "https://localhost:8080/",
          "height": 34
        },
        "outputId": "6de5ce89-b646-4a49-eead-11e4198fdb5a"
      },
      "cell_type": "code",
      "source": [
        "train = df[0:28709]\n",
        "cv = df[28709:32298]\n",
        "test = df[32298:]\n",
        "y_train = train.emotion\n",
        "y_cv = cv.emotion\n",
        "\n",
        "num_pix = 2304 #48*48\n",
        "num_classes = 7\n",
        "train_size = train.shape[0]\n",
        "cv_size = cv.shape[0]\n",
        "cv_size"
      ],
      "execution_count": 5,
      "outputs": [
        {
          "output_type": "execute_result",
          "data": {
            "text/plain": [
              "3589"
            ]
          },
          "metadata": {
            "tags": []
          },
          "execution_count": 5
        }
      ]
    },
    {
      "metadata": {
        "id": "l6V7CI6Y_oOO",
        "colab_type": "text"
      },
      "cell_type": "markdown",
      "source": [
        "### **split pixels and convert data to 3d (3 channels)**"
      ]
    },
    {
      "metadata": {
        "id": "LFp-oK56fwPP",
        "colab_type": "code",
        "colab": {}
      },
      "cell_type": "code",
      "source": [
        "X_train = np.zeros((train_size, 48,48))\n",
        "for i in range (train_size):\n",
        "    b = [int(j) for j in train.pixels[i].split()]\n",
        "    X_train[i] = np.array(b).reshape([48,48])"
      ],
      "execution_count": 0,
      "outputs": []
    },
    {
      "metadata": {
        "id": "uxs_YMrmf3oy",
        "colab_type": "code",
        "colab": {}
      },
      "cell_type": "code",
      "source": [
        "X_cv = np.zeros((cv_size, 48,48))\n",
        "for i in range (train_size, train_size + cv_size):\n",
        "    b = [int(j) for j in cv.pixels[i].split()]\n",
        "    X_cv[i-train_size] = np.array(b).reshape([48,48])"
      ],
      "execution_count": 0,
      "outputs": []
    },
    {
      "metadata": {
        "id": "U3VDU3Gjc-AV",
        "colab_type": "code",
        "colab": {}
      },
      "cell_type": "code",
      "source": [
        "img_rows, img_cols = 48, 48"
      ],
      "execution_count": 0,
      "outputs": []
    },
    {
      "metadata": {
        "id": "vt1zpQimdgLc",
        "colab_type": "code",
        "colab": {}
      },
      "cell_type": "code",
      "source": [
        "if K.image_data_format() == 'channels_first':\n",
        "  X_train = X_train.reshape(train_size, 1, img_rows, img_cols)\n",
        "  X_cv = X_cv.reshape(cv_size, 1, img_rows, img_cols)\n",
        "  input_shape = (1, img_rows, img_cols)\n",
        "else:\n",
        "  X_train = X_train.reshape(train_size, img_rows, img_cols, 1)\n",
        "  X_cv = X_cv.reshape(cv_size, img_rows, img_cols, 1)\n",
        "  input_shape = (img_rows, img_cols, 1)"
      ],
      "execution_count": 0,
      "outputs": []
    },
    {
      "metadata": {
        "id": "Pam6axyOg_6D",
        "colab_type": "code",
        "colab": {
          "base_uri": "https://localhost:8080/",
          "height": 70
        },
        "outputId": "1e929cdc-53c9-4b9a-d9ed-e1ba04851779"
      },
      "cell_type": "code",
      "source": [
        "X_train = X_train.astype('float64')\n",
        "X_cv = X_cv.astype('float64')\n",
        "X_train /= 255\n",
        "X_cv /= 255\n",
        "print('x_train shape:', X_train.shape)\n",
        "print(train_size, 'train samples')\n",
        "print(cv_size, 'cv samples')"
      ],
      "execution_count": 10,
      "outputs": [
        {
          "output_type": "stream",
          "text": [
            "x_train shape: (28709, 48, 48, 1)\n",
            "28709 train samples\n",
            "3589 cv samples\n"
          ],
          "name": "stdout"
        }
      ]
    },
    {
      "metadata": {
        "id": "FjiSCYNJhvL3",
        "colab_type": "code",
        "colab": {}
      },
      "cell_type": "code",
      "source": [
        "y_train = keras.utils.to_categorical(y_train, num_classes)\n",
        "y_cv = keras.utils.to_categorical(y_cv, num_classes)"
      ],
      "execution_count": 0,
      "outputs": []
    },
    {
      "metadata": {
        "id": "V2tNSep2Z1Yt",
        "colab_type": "text"
      },
      "cell_type": "markdown",
      "source": [
        "### **Use a sequential model to train:**"
      ]
    },
    {
      "metadata": {
        "id": "F5ZwAwXu8mL_",
        "colab_type": "code",
        "colab": {}
      },
      "cell_type": "code",
      "source": [
        "model = Sequential()\n",
        "model.add(Convolution2D(filters=16, kernel_size=(7, 7), padding='same',\n",
        "                        name='image_array', input_shape=input_shape))\n",
        "model.add(BatchNormalization())\n",
        "model.add(Convolution2D(filters=16, kernel_size=(7, 7), padding='same'))\n",
        "model.add(BatchNormalization())\n",
        "conv1 = Activation('relu')\n",
        "model.add(conv1)\n",
        "model.add(AveragePooling2D(pool_size=(2, 2), padding='same'))\n",
        "model.add(Dropout(.5))\n",
        "\n",
        "model.add(Convolution2D(filters=32, kernel_size=(5, 5), padding='same'))\n",
        "model.add(BatchNormalization())\n",
        "model.add(Convolution2D(filters=32, kernel_size=(5, 5), padding='same'))\n",
        "model.add(BatchNormalization())\n",
        "conv2 = Activation('relu')\n",
        "model.add(conv2)\n",
        "model.add(AveragePooling2D(pool_size=(2, 2), padding='same'))\n",
        "model.add(Dropout(.5))\n",
        "\n",
        "model.add(Convolution2D(filters=64, kernel_size=(3, 3), padding='same'))\n",
        "model.add(BatchNormalization())\n",
        "model.add(Convolution2D(filters=64, kernel_size=(3, 3), padding='same'))\n",
        "model.add(BatchNormalization())\n",
        "conv3 = Activation('relu')\n",
        "model.add(conv3)\n",
        "model.add(AveragePooling2D(pool_size=(2, 2), padding='same'))\n",
        "model.add(Dropout(.5))\n",
        "\n",
        "model.add(Convolution2D(filters=128, kernel_size=(3, 3), padding='same'))\n",
        "model.add(BatchNormalization())\n",
        "model.add(Convolution2D(filters=128, kernel_size=(3, 3), padding='same'))\n",
        "model.add(BatchNormalization())\n",
        "conv4 = Activation('relu')\n",
        "model.add(conv4)\n",
        "model.add(AveragePooling2D(pool_size=(2, 2), padding='same'))\n",
        "model.add(Dropout(.5))\n",
        "\n",
        "model.add(Convolution2D(filters=128, kernel_size=(3, 3), padding='same'))\n",
        "model.add(BatchNormalization())\n",
        "model.add(Convolution2D(filters=128, kernel_size=(3, 3), padding='same'))\n",
        "model.add(BatchNormalization())\n",
        "conv5 = Activation('relu')\n",
        "model.add(conv5)\n",
        "model.add(AveragePooling2D(pool_size=(2, 2), padding='same'))\n",
        "model.add(Dropout(.5))\n",
        "\n",
        "# model.add(Convolution2D(filters=256, kernel_size=(3, 3), padding='same'))\n",
        "# model.add(BatchNormalization())\n",
        "# model.add(Convolution2D(filters=num_classes, kernel_size=(3, 3), padding='same'))\n",
        "# model.add(GlobalAveragePooling2D())\n",
        "# model.add(Activation('softmax',name='predictions'))\n",
        "\n",
        "model.add(Flatten())\n",
        "model.add(Dense(256, activation='relu'))\n",
        "model.add(Dropout(0.5))\n",
        "model.add(Dense(num_classes, activation='softmax'))"
      ],
      "execution_count": 0,
      "outputs": []
    },
    {
      "metadata": {
        "id": "EDFNnzAvbJkv",
        "colab_type": "text"
      },
      "cell_type": "markdown",
      "source": [
        "see the summary of model below:"
      ]
    },
    {
      "metadata": {
        "id": "WPB99DWtavkb",
        "colab_type": "code",
        "colab": {
          "base_uri": "https://localhost:8080/",
          "height": 1527
        },
        "outputId": "dcad8296-d397-4860-d5e3-0c6bda441e52"
      },
      "cell_type": "code",
      "source": [
        "model.summary()"
      ],
      "execution_count": 13,
      "outputs": [
        {
          "output_type": "stream",
          "text": [
            "_________________________________________________________________\n",
            "Layer (type)                 Output Shape              Param #   \n",
            "=================================================================\n",
            "image_array (Conv2D)         (None, 48, 48, 16)        800       \n",
            "_________________________________________________________________\n",
            "batch_normalization_1 (Batch (None, 48, 48, 16)        64        \n",
            "_________________________________________________________________\n",
            "conv2d_1 (Conv2D)            (None, 48, 48, 16)        12560     \n",
            "_________________________________________________________________\n",
            "batch_normalization_2 (Batch (None, 48, 48, 16)        64        \n",
            "_________________________________________________________________\n",
            "activation_1 (Activation)    (None, 48, 48, 16)        0         \n",
            "_________________________________________________________________\n",
            "average_pooling2d_1 (Average (None, 24, 24, 16)        0         \n",
            "_________________________________________________________________\n",
            "dropout_1 (Dropout)          (None, 24, 24, 16)        0         \n",
            "_________________________________________________________________\n",
            "conv2d_2 (Conv2D)            (None, 24, 24, 32)        12832     \n",
            "_________________________________________________________________\n",
            "batch_normalization_3 (Batch (None, 24, 24, 32)        128       \n",
            "_________________________________________________________________\n",
            "conv2d_3 (Conv2D)            (None, 24, 24, 32)        25632     \n",
            "_________________________________________________________________\n",
            "batch_normalization_4 (Batch (None, 24, 24, 32)        128       \n",
            "_________________________________________________________________\n",
            "activation_2 (Activation)    (None, 24, 24, 32)        0         \n",
            "_________________________________________________________________\n",
            "average_pooling2d_2 (Average (None, 12, 12, 32)        0         \n",
            "_________________________________________________________________\n",
            "dropout_2 (Dropout)          (None, 12, 12, 32)        0         \n",
            "_________________________________________________________________\n",
            "conv2d_4 (Conv2D)            (None, 12, 12, 64)        18496     \n",
            "_________________________________________________________________\n",
            "batch_normalization_5 (Batch (None, 12, 12, 64)        256       \n",
            "_________________________________________________________________\n",
            "conv2d_5 (Conv2D)            (None, 12, 12, 64)        36928     \n",
            "_________________________________________________________________\n",
            "batch_normalization_6 (Batch (None, 12, 12, 64)        256       \n",
            "_________________________________________________________________\n",
            "activation_3 (Activation)    (None, 12, 12, 64)        0         \n",
            "_________________________________________________________________\n",
            "average_pooling2d_3 (Average (None, 6, 6, 64)          0         \n",
            "_________________________________________________________________\n",
            "dropout_3 (Dropout)          (None, 6, 6, 64)          0         \n",
            "_________________________________________________________________\n",
            "conv2d_6 (Conv2D)            (None, 6, 6, 128)         73856     \n",
            "_________________________________________________________________\n",
            "batch_normalization_7 (Batch (None, 6, 6, 128)         512       \n",
            "_________________________________________________________________\n",
            "conv2d_7 (Conv2D)            (None, 6, 6, 128)         147584    \n",
            "_________________________________________________________________\n",
            "batch_normalization_8 (Batch (None, 6, 6, 128)         512       \n",
            "_________________________________________________________________\n",
            "activation_4 (Activation)    (None, 6, 6, 128)         0         \n",
            "_________________________________________________________________\n",
            "average_pooling2d_4 (Average (None, 3, 3, 128)         0         \n",
            "_________________________________________________________________\n",
            "dropout_4 (Dropout)          (None, 3, 3, 128)         0         \n",
            "_________________________________________________________________\n",
            "conv2d_8 (Conv2D)            (None, 3, 3, 128)         147584    \n",
            "_________________________________________________________________\n",
            "batch_normalization_9 (Batch (None, 3, 3, 128)         512       \n",
            "_________________________________________________________________\n",
            "conv2d_9 (Conv2D)            (None, 3, 3, 128)         147584    \n",
            "_________________________________________________________________\n",
            "batch_normalization_10 (Batc (None, 3, 3, 128)         512       \n",
            "_________________________________________________________________\n",
            "activation_5 (Activation)    (None, 3, 3, 128)         0         \n",
            "_________________________________________________________________\n",
            "average_pooling2d_5 (Average (None, 2, 2, 128)         0         \n",
            "_________________________________________________________________\n",
            "dropout_5 (Dropout)          (None, 2, 2, 128)         0         \n",
            "_________________________________________________________________\n",
            "flatten_1 (Flatten)          (None, 512)               0         \n",
            "_________________________________________________________________\n",
            "dense_1 (Dense)              (None, 256)               131328    \n",
            "_________________________________________________________________\n",
            "dropout_6 (Dropout)          (None, 256)               0         \n",
            "_________________________________________________________________\n",
            "dense_2 (Dense)              (None, 7)                 1799      \n",
            "=================================================================\n",
            "Total params: 759,927\n",
            "Trainable params: 758,455\n",
            "Non-trainable params: 1,472\n",
            "_________________________________________________________________\n"
          ],
          "name": "stdout"
        }
      ]
    },
    {
      "metadata": {
        "id": "1ZzlfLXr6GGf",
        "colab_type": "code",
        "colab": {}
      },
      "cell_type": "code",
      "source": [
        "def accuracy(test_x, test_y, model):\n",
        "    result = model.predict(test_x)\n",
        "    predicted_class = np.argmax(result, axis=1)\n",
        "    true_class = np.argmax(test_y, axis=1)\n",
        "    num_correct = np.sum(predicted_class == true_class) \n",
        "    accuracy = float(num_correct)/result.shape[0]\n",
        "    return (accuracy * 100)"
      ],
      "execution_count": 0,
      "outputs": []
    },
    {
      "metadata": {
        "id": "whmbQnogx397",
        "colab_type": "code",
        "colab": {}
      },
      "cell_type": "code",
      "source": [
        "import os, glob, time\n",
        "epoch_num = 0\n",
        "outputFolder = './output-SEQ7_51_d'\n",
        "file_ini = outputFolder+'/weights-'+ str(epoch_num)+'*'\n",
        "filename =  glob.glob(file_ini)"
      ],
      "execution_count": 0,
      "outputs": []
    },
    {
      "metadata": {
        "id": "RmJg3VARx7FA",
        "colab_type": "code",
        "colab": {}
      },
      "cell_type": "code",
      "source": [
        "model.compile(loss=keras.losses.categorical_crossentropy, optimizer=keras.optimizers.Adam(), metrics=['accuracy'])\n"
      ],
      "execution_count": 0,
      "outputs": []
    },
    {
      "metadata": {
        "id": "QcMo1G4tx96c",
        "colab_type": "code",
        "colab": {}
      },
      "cell_type": "code",
      "source": [
        "outputFolder = './output-SEQ7_51_d/'\n",
        "if not os.path.exists(outputFolder):\n",
        "    os.makedirs(outputFolder)\n",
        "filepath=outputFolder+\"/weights-{epoch:02d}-{val_acc:.2f}.h5\""
      ],
      "execution_count": 0,
      "outputs": []
    },
    {
      "metadata": {
        "id": "FIBBLvzp_3qN",
        "colab_type": "text"
      },
      "cell_type": "markdown",
      "source": [
        "### **define some callbacks like model checkpoint and early stopping**"
      ]
    },
    {
      "metadata": {
        "id": "VSjlzmzAyCU3",
        "colab_type": "code",
        "colab": {}
      },
      "cell_type": "code",
      "source": [
        "# earlystop = EarlyStopping(monitor='val_acc', min_delta=0.0001, patience=5, \\\n",
        "#                           verbose=1, mode='auto')\n",
        "# callbacks_list = [earlystop]"
      ],
      "execution_count": 0,
      "outputs": []
    },
    {
      "metadata": {
        "id": "fhYl5kZPyrmu",
        "colab_type": "code",
        "colab": {}
      },
      "cell_type": "code",
      "source": [
        "checkpoint = ModelCheckpoint(filepath, monitor='val_acc', verbose=1, \\\n",
        "                             save_best_only=False, save_weights_only=False,\\\n",
        "                             mode='auto', period=10)\n",
        "callbacks_list = [checkpoint]"
      ],
      "execution_count": 0,
      "outputs": []
    },
    {
      "metadata": {
        "id": "RwCqZ1dNACFq",
        "colab_type": "text"
      },
      "cell_type": "markdown",
      "source": [
        "### **train the model**"
      ]
    },
    {
      "metadata": {
        "id": "XBsm6KOvyEub",
        "colab_type": "code",
        "colab": {
          "base_uri": "https://localhost:8080/",
          "height": 7856
        },
        "outputId": "caae25e5-3d20-434d-b3e9-5c0e7a7bd391"
      },
      "cell_type": "code",
      "source": [
        "model_info = model.fit(X_train, y_train, \n",
        "         batch_size=128,\n",
        "         epochs= 200,\n",
        "         callbacks=callbacks_list,              \n",
        "         verbose=1,\n",
        "         validation_data=(X_cv, y_cv))\n",
        "\n",
        "# model_info = model.fit(X_train, y_train, batch_size=128, \\\n",
        "#                        epochs=100, callbacks=callbacks_list, verbose=1, \\\n",
        "#                         initial_epoch = epoch_num+1)"
      ],
      "execution_count": 20,
      "outputs": [
        {
          "output_type": "stream",
          "text": [
            "Train on 28709 samples, validate on 3589 samples\n",
            "Epoch 1/200\n",
            "28709/28709 [==============================] - 19s 676us/step - loss: 1.8373 - acc: 0.2492 - val_loss: 1.8631 - val_acc: 0.2053\n",
            "Epoch 2/200\n",
            "28709/28709 [==============================] - 16s 560us/step - loss: 1.7077 - acc: 0.3136 - val_loss: 1.7657 - val_acc: 0.3129\n",
            "Epoch 3/200\n",
            "28709/28709 [==============================] - 16s 561us/step - loss: 1.6127 - acc: 0.3651 - val_loss: 1.6961 - val_acc: 0.3396\n",
            "Epoch 4/200\n",
            "28709/28709 [==============================] - 16s 560us/step - loss: 1.5517 - acc: 0.3948 - val_loss: 1.6181 - val_acc: 0.3722\n",
            "Epoch 5/200\n",
            "28709/28709 [==============================] - 16s 562us/step - loss: 1.5120 - acc: 0.4160 - val_loss: 1.4099 - val_acc: 0.4466\n",
            "Epoch 6/200\n",
            "28709/28709 [==============================] - 16s 560us/step - loss: 1.4791 - acc: 0.4302 - val_loss: 1.4303 - val_acc: 0.4469\n",
            "Epoch 7/200\n",
            "28709/28709 [==============================] - 16s 558us/step - loss: 1.4413 - acc: 0.4447 - val_loss: 1.3923 - val_acc: 0.4519\n",
            "Epoch 8/200\n",
            "28709/28709 [==============================] - 16s 559us/step - loss: 1.4250 - acc: 0.4546 - val_loss: 1.3580 - val_acc: 0.4815\n",
            "Epoch 9/200\n",
            "28709/28709 [==============================] - 16s 563us/step - loss: 1.4092 - acc: 0.4625 - val_loss: 1.3935 - val_acc: 0.4614\n",
            "Epoch 10/200\n",
            "28709/28709 [==============================] - 16s 564us/step - loss: 1.3917 - acc: 0.4689 - val_loss: 1.2996 - val_acc: 0.5021\n",
            "\n",
            "Epoch 00010: saving model to ./output-SEQ7_51_d//weights-10-0.50.h5\n",
            "Epoch 11/200\n",
            "28709/28709 [==============================] - 16s 561us/step - loss: 1.3783 - acc: 0.4746 - val_loss: 1.2723 - val_acc: 0.5085\n",
            "Epoch 12/200\n",
            "28709/28709 [==============================] - 16s 559us/step - loss: 1.3662 - acc: 0.4792 - val_loss: 1.2578 - val_acc: 0.5104\n",
            "Epoch 13/200\n",
            "28709/28709 [==============================] - 16s 561us/step - loss: 1.3562 - acc: 0.4830 - val_loss: 1.2693 - val_acc: 0.5116\n",
            "Epoch 14/200\n",
            "28709/28709 [==============================] - 16s 559us/step - loss: 1.3396 - acc: 0.4872 - val_loss: 1.2399 - val_acc: 0.5213\n",
            "Epoch 15/200\n",
            "28709/28709 [==============================] - 16s 559us/step - loss: 1.3344 - acc: 0.4895 - val_loss: 1.2448 - val_acc: 0.5205\n",
            "Epoch 16/200\n",
            "28709/28709 [==============================] - 16s 561us/step - loss: 1.3324 - acc: 0.4945 - val_loss: 1.2274 - val_acc: 0.5216\n",
            "Epoch 17/200\n",
            "28709/28709 [==============================] - 16s 559us/step - loss: 1.3184 - acc: 0.4957 - val_loss: 1.2269 - val_acc: 0.5255\n",
            "Epoch 18/200\n",
            "28709/28709 [==============================] - 16s 558us/step - loss: 1.3147 - acc: 0.5015 - val_loss: 1.2371 - val_acc: 0.5255\n",
            "Epoch 19/200\n",
            "28709/28709 [==============================] - 16s 560us/step - loss: 1.2978 - acc: 0.5076 - val_loss: 1.2907 - val_acc: 0.5018\n",
            "Epoch 20/200\n",
            "28709/28709 [==============================] - 16s 561us/step - loss: 1.2990 - acc: 0.5104 - val_loss: 1.2182 - val_acc: 0.5305\n",
            "\n",
            "Epoch 00020: saving model to ./output-SEQ7_51_d//weights-20-0.53.h5\n",
            "Epoch 21/200\n",
            "28709/28709 [==============================] - 16s 560us/step - loss: 1.2922 - acc: 0.5114 - val_loss: 1.1948 - val_acc: 0.5458\n",
            "Epoch 22/200\n",
            "28709/28709 [==============================] - 16s 560us/step - loss: 1.2768 - acc: 0.5158 - val_loss: 1.2451 - val_acc: 0.5294\n",
            "Epoch 23/200\n",
            "28709/28709 [==============================] - 16s 559us/step - loss: 1.2767 - acc: 0.5170 - val_loss: 1.2464 - val_acc: 0.5174\n",
            "Epoch 24/200\n",
            "28709/28709 [==============================] - 16s 560us/step - loss: 1.2728 - acc: 0.5225 - val_loss: 1.1894 - val_acc: 0.5414\n",
            "Epoch 25/200\n",
            "28709/28709 [==============================] - 16s 561us/step - loss: 1.2623 - acc: 0.5219 - val_loss: 1.1981 - val_acc: 0.5339\n",
            "Epoch 26/200\n",
            "28709/28709 [==============================] - 16s 558us/step - loss: 1.2589 - acc: 0.5228 - val_loss: 1.2145 - val_acc: 0.5330\n",
            "Epoch 27/200\n",
            "28709/28709 [==============================] - 16s 558us/step - loss: 1.2526 - acc: 0.5288 - val_loss: 1.1514 - val_acc: 0.5653\n",
            "Epoch 28/200\n",
            "28709/28709 [==============================] - 16s 560us/step - loss: 1.2508 - acc: 0.5303 - val_loss: 1.1917 - val_acc: 0.5364\n",
            "Epoch 29/200\n",
            "28709/28709 [==============================] - 16s 558us/step - loss: 1.2420 - acc: 0.5286 - val_loss: 1.1782 - val_acc: 0.5386\n",
            "Epoch 30/200\n",
            "28709/28709 [==============================] - 16s 560us/step - loss: 1.2346 - acc: 0.5350 - val_loss: 1.2386 - val_acc: 0.5222\n",
            "\n",
            "Epoch 00030: saving model to ./output-SEQ7_51_d//weights-30-0.52.h5\n",
            "Epoch 31/200\n",
            "28709/28709 [==============================] - 16s 562us/step - loss: 1.2362 - acc: 0.5351 - val_loss: 1.1424 - val_acc: 0.5564\n",
            "Epoch 32/200\n",
            "28709/28709 [==============================] - 16s 559us/step - loss: 1.2293 - acc: 0.5364 - val_loss: 1.1415 - val_acc: 0.5626\n",
            "Epoch 33/200\n",
            "28709/28709 [==============================] - 16s 559us/step - loss: 1.2263 - acc: 0.5365 - val_loss: 1.1528 - val_acc: 0.5600\n",
            "Epoch 34/200\n",
            "28709/28709 [==============================] - 16s 562us/step - loss: 1.2223 - acc: 0.5378 - val_loss: 1.1517 - val_acc: 0.5603\n",
            "Epoch 35/200\n",
            "28709/28709 [==============================] - 16s 562us/step - loss: 1.2193 - acc: 0.5385 - val_loss: 1.1475 - val_acc: 0.5564\n",
            "Epoch 36/200\n",
            "28709/28709 [==============================] - 16s 560us/step - loss: 1.2188 - acc: 0.5410 - val_loss: 1.1694 - val_acc: 0.5483\n",
            "Epoch 37/200\n",
            "28709/28709 [==============================] - 16s 559us/step - loss: 1.2183 - acc: 0.5431 - val_loss: 1.1343 - val_acc: 0.5626\n",
            "Epoch 38/200\n",
            "28709/28709 [==============================] - 16s 562us/step - loss: 1.2061 - acc: 0.5477 - val_loss: 1.1217 - val_acc: 0.5704\n",
            "Epoch 39/200\n",
            "28709/28709 [==============================] - 16s 560us/step - loss: 1.2084 - acc: 0.5461 - val_loss: 1.1305 - val_acc: 0.5690\n",
            "Epoch 40/200\n",
            "28709/28709 [==============================] - 16s 561us/step - loss: 1.2068 - acc: 0.5438 - val_loss: 1.1138 - val_acc: 0.5745\n",
            "\n",
            "Epoch 00040: saving model to ./output-SEQ7_51_d//weights-40-0.57.h5\n",
            "Epoch 41/200\n",
            "28709/28709 [==============================] - 16s 561us/step - loss: 1.2051 - acc: 0.5453 - val_loss: 1.1224 - val_acc: 0.5717\n",
            "Epoch 42/200\n",
            "28709/28709 [==============================] - 16s 559us/step - loss: 1.1924 - acc: 0.5514 - val_loss: 1.1277 - val_acc: 0.5706\n",
            "Epoch 43/200\n",
            "28709/28709 [==============================] - 16s 563us/step - loss: 1.1977 - acc: 0.5466 - val_loss: 1.0982 - val_acc: 0.5762\n",
            "Epoch 44/200\n",
            "28709/28709 [==============================] - 16s 559us/step - loss: 1.1921 - acc: 0.5518 - val_loss: 1.1216 - val_acc: 0.5692\n",
            "Epoch 45/200\n",
            "28709/28709 [==============================] - 16s 558us/step - loss: 1.1866 - acc: 0.5532 - val_loss: 1.1210 - val_acc: 0.5715\n",
            "Epoch 46/200\n",
            "28709/28709 [==============================] - 16s 558us/step - loss: 1.1860 - acc: 0.5535 - val_loss: 1.1047 - val_acc: 0.5740\n",
            "Epoch 47/200\n",
            "28709/28709 [==============================] - 16s 560us/step - loss: 1.1866 - acc: 0.5507 - val_loss: 1.1265 - val_acc: 0.5701\n",
            "Epoch 48/200\n",
            "28709/28709 [==============================] - 16s 560us/step - loss: 1.1799 - acc: 0.5570 - val_loss: 1.2171 - val_acc: 0.5344\n",
            "Epoch 49/200\n",
            "28709/28709 [==============================] - 16s 559us/step - loss: 1.1833 - acc: 0.5574 - val_loss: 1.0990 - val_acc: 0.5743\n",
            "Epoch 50/200\n",
            "28709/28709 [==============================] - 16s 560us/step - loss: 1.1812 - acc: 0.5547 - val_loss: 1.0972 - val_acc: 0.5865\n",
            "\n",
            "Epoch 00050: saving model to ./output-SEQ7_51_d//weights-50-0.59.h5\n",
            "Epoch 51/200\n",
            "28709/28709 [==============================] - 16s 559us/step - loss: 1.1720 - acc: 0.5591 - val_loss: 1.1282 - val_acc: 0.5690\n",
            "Epoch 52/200\n",
            "28709/28709 [==============================] - 16s 559us/step - loss: 1.1771 - acc: 0.5572 - val_loss: 1.1132 - val_acc: 0.5701\n",
            "Epoch 53/200\n",
            "28709/28709 [==============================] - 16s 558us/step - loss: 1.1705 - acc: 0.5600 - val_loss: 1.0966 - val_acc: 0.5729\n",
            "Epoch 54/200\n",
            "28709/28709 [==============================] - 16s 560us/step - loss: 1.1643 - acc: 0.5587 - val_loss: 1.0827 - val_acc: 0.5848\n",
            "Epoch 55/200\n",
            "28709/28709 [==============================] - 16s 561us/step - loss: 1.1626 - acc: 0.5608 - val_loss: 1.0773 - val_acc: 0.5854\n",
            "Epoch 56/200\n",
            "28709/28709 [==============================] - 16s 559us/step - loss: 1.1610 - acc: 0.5609 - val_loss: 1.1154 - val_acc: 0.5751\n",
            "Epoch 57/200\n",
            "28709/28709 [==============================] - 16s 561us/step - loss: 1.1683 - acc: 0.5614 - val_loss: 1.1101 - val_acc: 0.5720\n",
            "Epoch 58/200\n",
            "28709/28709 [==============================] - 16s 561us/step - loss: 1.1640 - acc: 0.5608 - val_loss: 1.1105 - val_acc: 0.5698\n",
            "Epoch 59/200\n",
            "28709/28709 [==============================] - 16s 560us/step - loss: 1.1620 - acc: 0.5606 - val_loss: 1.0933 - val_acc: 0.5829\n",
            "Epoch 60/200\n",
            "28709/28709 [==============================] - 16s 558us/step - loss: 1.1603 - acc: 0.5631 - val_loss: 1.0998 - val_acc: 0.5706\n",
            "\n",
            "Epoch 00060: saving model to ./output-SEQ7_51_d//weights-60-0.57.h5\n",
            "Epoch 61/200\n",
            "28709/28709 [==============================] - 16s 559us/step - loss: 1.1522 - acc: 0.5680 - val_loss: 1.0824 - val_acc: 0.5868\n",
            "Epoch 62/200\n",
            "28709/28709 [==============================] - 16s 563us/step - loss: 1.1568 - acc: 0.5646 - val_loss: 1.0798 - val_acc: 0.5795\n",
            "Epoch 63/200\n",
            "28709/28709 [==============================] - 16s 563us/step - loss: 1.1575 - acc: 0.5650 - val_loss: 1.0954 - val_acc: 0.5765\n",
            "Epoch 64/200\n",
            "28709/28709 [==============================] - 16s 563us/step - loss: 1.1443 - acc: 0.5708 - val_loss: 1.1057 - val_acc: 0.5743\n",
            "Epoch 65/200\n",
            "28709/28709 [==============================] - 16s 560us/step - loss: 1.1540 - acc: 0.5681 - val_loss: 1.0860 - val_acc: 0.5795\n",
            "Epoch 66/200\n",
            "28709/28709 [==============================] - 16s 558us/step - loss: 1.1480 - acc: 0.5689 - val_loss: 1.1299 - val_acc: 0.5667\n",
            "Epoch 67/200\n",
            "28709/28709 [==============================] - 16s 559us/step - loss: 1.1478 - acc: 0.5641 - val_loss: 1.0923 - val_acc: 0.5807\n",
            "Epoch 68/200\n",
            "28709/28709 [==============================] - 16s 559us/step - loss: 1.1406 - acc: 0.5695 - val_loss: 1.0644 - val_acc: 0.5899\n",
            "Epoch 69/200\n",
            "28709/28709 [==============================] - 16s 559us/step - loss: 1.1378 - acc: 0.5723 - val_loss: 1.0814 - val_acc: 0.5815\n",
            "Epoch 70/200\n",
            "28709/28709 [==============================] - 16s 560us/step - loss: 1.1376 - acc: 0.5705 - val_loss: 1.1034 - val_acc: 0.5734\n",
            "\n",
            "Epoch 00070: saving model to ./output-SEQ7_51_d//weights-70-0.57.h5\n",
            "Epoch 71/200\n",
            "28709/28709 [==============================] - 16s 561us/step - loss: 1.1441 - acc: 0.5681 - val_loss: 1.0794 - val_acc: 0.5843\n",
            "Epoch 72/200\n",
            "28709/28709 [==============================] - 16s 559us/step - loss: 1.1377 - acc: 0.5722 - val_loss: 1.0663 - val_acc: 0.5918\n",
            "Epoch 73/200\n",
            "28709/28709 [==============================] - 16s 561us/step - loss: 1.1353 - acc: 0.5701 - val_loss: 1.0695 - val_acc: 0.5904\n",
            "Epoch 74/200\n",
            "28709/28709 [==============================] - 16s 559us/step - loss: 1.1347 - acc: 0.5706 - val_loss: 1.0824 - val_acc: 0.5821\n",
            "Epoch 75/200\n",
            "28709/28709 [==============================] - 16s 558us/step - loss: 1.1275 - acc: 0.5772 - val_loss: 1.0971 - val_acc: 0.5770\n",
            "Epoch 76/200\n",
            "28709/28709 [==============================] - 16s 560us/step - loss: 1.1340 - acc: 0.5735 - val_loss: 1.0599 - val_acc: 0.5926\n",
            "Epoch 77/200\n",
            "28709/28709 [==============================] - 16s 559us/step - loss: 1.1321 - acc: 0.5709 - val_loss: 1.0660 - val_acc: 0.5949\n",
            "Epoch 78/200\n",
            "28709/28709 [==============================] - 16s 560us/step - loss: 1.1307 - acc: 0.5736 - val_loss: 1.0722 - val_acc: 0.5834\n",
            "Epoch 79/200\n",
            "28709/28709 [==============================] - 16s 561us/step - loss: 1.1336 - acc: 0.5724 - val_loss: 1.1000 - val_acc: 0.5784\n",
            "Epoch 80/200\n",
            "28709/28709 [==============================] - 16s 559us/step - loss: 1.1235 - acc: 0.5739 - val_loss: 1.0602 - val_acc: 0.5915\n",
            "\n",
            "Epoch 00080: saving model to ./output-SEQ7_51_d//weights-80-0.59.h5\n",
            "Epoch 81/200\n",
            "28709/28709 [==============================] - 16s 559us/step - loss: 1.1257 - acc: 0.5768 - val_loss: 1.0574 - val_acc: 0.5949\n",
            "Epoch 82/200\n",
            "28709/28709 [==============================] - 16s 557us/step - loss: 1.1247 - acc: 0.5758 - val_loss: 1.0673 - val_acc: 0.5868\n",
            "Epoch 83/200\n",
            "28709/28709 [==============================] - 16s 561us/step - loss: 1.1218 - acc: 0.5769 - val_loss: 1.0605 - val_acc: 0.5890\n",
            "Epoch 84/200\n",
            "28709/28709 [==============================] - 16s 558us/step - loss: 1.1185 - acc: 0.5784 - val_loss: 1.0673 - val_acc: 0.5809\n",
            "Epoch 85/200\n",
            "28709/28709 [==============================] - 16s 559us/step - loss: 1.1274 - acc: 0.5751 - val_loss: 1.0727 - val_acc: 0.5876\n",
            "Epoch 86/200\n",
            "28709/28709 [==============================] - 16s 558us/step - loss: 1.1085 - acc: 0.5855 - val_loss: 1.0495 - val_acc: 0.6002\n",
            "Epoch 87/200\n",
            "28709/28709 [==============================] - 16s 561us/step - loss: 1.1142 - acc: 0.5815 - val_loss: 1.0681 - val_acc: 0.5837\n",
            "Epoch 88/200\n",
            "28709/28709 [==============================] - 16s 560us/step - loss: 1.1166 - acc: 0.5791 - val_loss: 1.0845 - val_acc: 0.5876\n",
            "Epoch 89/200\n",
            "28709/28709 [==============================] - 16s 560us/step - loss: 1.1165 - acc: 0.5828 - val_loss: 1.0540 - val_acc: 0.5993\n",
            "Epoch 90/200\n",
            "28709/28709 [==============================] - 16s 558us/step - loss: 1.1100 - acc: 0.5797 - val_loss: 1.0546 - val_acc: 0.5913\n",
            "\n",
            "Epoch 00090: saving model to ./output-SEQ7_51_d//weights-90-0.59.h5\n",
            "Epoch 91/200\n",
            "28709/28709 [==============================] - 16s 559us/step - loss: 1.1152 - acc: 0.5803 - val_loss: 1.0423 - val_acc: 0.5977\n",
            "Epoch 92/200\n",
            "28709/28709 [==============================] - 16s 559us/step - loss: 1.1138 - acc: 0.5777 - val_loss: 1.0610 - val_acc: 0.5874\n",
            "Epoch 93/200\n",
            "28709/28709 [==============================] - 16s 559us/step - loss: 1.1069 - acc: 0.5835 - val_loss: 1.0688 - val_acc: 0.5871\n",
            "Epoch 94/200\n",
            "28709/28709 [==============================] - 16s 557us/step - loss: 1.1053 - acc: 0.5817 - val_loss: 1.0879 - val_acc: 0.5860\n",
            "Epoch 95/200\n",
            "28709/28709 [==============================] - 16s 558us/step - loss: 1.1103 - acc: 0.5807 - val_loss: 1.0517 - val_acc: 0.6052\n",
            "Epoch 96/200\n",
            "28709/28709 [==============================] - 16s 558us/step - loss: 1.1083 - acc: 0.5823 - val_loss: 1.0608 - val_acc: 0.5918\n",
            "Epoch 97/200\n",
            "28709/28709 [==============================] - 16s 558us/step - loss: 1.1111 - acc: 0.5789 - val_loss: 1.0585 - val_acc: 0.5932\n",
            "Epoch 98/200\n",
            "28709/28709 [==============================] - 16s 558us/step - loss: 1.1066 - acc: 0.5857 - val_loss: 1.0340 - val_acc: 0.6096\n",
            "Epoch 99/200\n",
            "28709/28709 [==============================] - 16s 558us/step - loss: 1.1080 - acc: 0.5828 - val_loss: 1.0496 - val_acc: 0.6002\n",
            "Epoch 100/200\n",
            "28709/28709 [==============================] - 16s 559us/step - loss: 1.1080 - acc: 0.5804 - val_loss: 1.0413 - val_acc: 0.5965\n",
            "\n",
            "Epoch 00100: saving model to ./output-SEQ7_51_d//weights-100-0.60.h5\n",
            "Epoch 101/200\n",
            "28709/28709 [==============================] - 16s 559us/step - loss: 1.1028 - acc: 0.5860 - val_loss: 1.0689 - val_acc: 0.5926\n",
            "Epoch 102/200\n",
            "28709/28709 [==============================] - 16s 559us/step - loss: 1.1021 - acc: 0.5869 - val_loss: 1.0668 - val_acc: 0.5807\n",
            "Epoch 103/200\n",
            "28709/28709 [==============================] - 16s 559us/step - loss: 1.0954 - acc: 0.5868 - val_loss: 1.0801 - val_acc: 0.5896\n",
            "Epoch 104/200\n",
            "28709/28709 [==============================] - 16s 557us/step - loss: 1.0979 - acc: 0.5886 - val_loss: 1.0550 - val_acc: 0.5935\n",
            "Epoch 105/200\n",
            "28709/28709 [==============================] - 16s 559us/step - loss: 1.0980 - acc: 0.5892 - val_loss: 1.0435 - val_acc: 0.6030\n",
            "Epoch 106/200\n",
            "28709/28709 [==============================] - 16s 558us/step - loss: 1.0938 - acc: 0.5890 - val_loss: 1.0371 - val_acc: 0.6027\n",
            "Epoch 107/200\n",
            "28709/28709 [==============================] - 16s 559us/step - loss: 1.0968 - acc: 0.5858 - val_loss: 1.0464 - val_acc: 0.6010\n",
            "Epoch 108/200\n",
            "28709/28709 [==============================] - 16s 558us/step - loss: 1.0991 - acc: 0.5858 - val_loss: 1.0317 - val_acc: 0.6066\n",
            "Epoch 109/200\n",
            "28709/28709 [==============================] - 16s 556us/step - loss: 1.0919 - acc: 0.5912 - val_loss: 1.0765 - val_acc: 0.5915\n",
            "Epoch 110/200\n",
            "28709/28709 [==============================] - 16s 559us/step - loss: 1.1008 - acc: 0.5854 - val_loss: 1.0420 - val_acc: 0.6030\n",
            "\n",
            "Epoch 00110: saving model to ./output-SEQ7_51_d//weights-110-0.60.h5\n",
            "Epoch 111/200\n",
            "28709/28709 [==============================] - 16s 559us/step - loss: 1.0996 - acc: 0.5841 - val_loss: 1.0404 - val_acc: 0.6013\n",
            "Epoch 112/200\n",
            "28709/28709 [==============================] - 16s 560us/step - loss: 1.0899 - acc: 0.5870 - val_loss: 1.0543 - val_acc: 0.5952\n",
            "Epoch 113/200\n",
            "28709/28709 [==============================] - 16s 560us/step - loss: 1.0909 - acc: 0.5911 - val_loss: 1.0418 - val_acc: 0.6043\n",
            "Epoch 114/200\n",
            "28709/28709 [==============================] - 16s 559us/step - loss: 1.0880 - acc: 0.5911 - val_loss: 1.0615 - val_acc: 0.5946\n",
            "Epoch 115/200\n",
            "28709/28709 [==============================] - 16s 559us/step - loss: 1.0903 - acc: 0.5850 - val_loss: 1.0527 - val_acc: 0.5974\n",
            "Epoch 116/200\n",
            "28709/28709 [==============================] - 16s 562us/step - loss: 1.0891 - acc: 0.5862 - val_loss: 1.0402 - val_acc: 0.5974\n",
            "Epoch 117/200\n",
            "28709/28709 [==============================] - 16s 560us/step - loss: 1.0932 - acc: 0.5881 - val_loss: 1.0417 - val_acc: 0.6049\n",
            "Epoch 118/200\n",
            "28709/28709 [==============================] - 16s 560us/step - loss: 1.0874 - acc: 0.5887 - val_loss: 1.0416 - val_acc: 0.6060\n",
            "Epoch 119/200\n",
            "28709/28709 [==============================] - 16s 562us/step - loss: 1.0870 - acc: 0.5917 - val_loss: 1.0366 - val_acc: 0.6016\n",
            "Epoch 120/200\n",
            "28709/28709 [==============================] - 16s 558us/step - loss: 1.0860 - acc: 0.5900 - val_loss: 1.0259 - val_acc: 0.6063\n",
            "\n",
            "Epoch 00120: saving model to ./output-SEQ7_51_d//weights-120-0.61.h5\n",
            "Epoch 121/200\n",
            "28709/28709 [==============================] - 16s 558us/step - loss: 1.0854 - acc: 0.5889 - val_loss: 1.0325 - val_acc: 0.6082\n",
            "Epoch 122/200\n",
            "28709/28709 [==============================] - 16s 559us/step - loss: 1.0862 - acc: 0.5903 - val_loss: 1.0382 - val_acc: 0.6063\n",
            "Epoch 123/200\n",
            "28709/28709 [==============================] - 16s 557us/step - loss: 1.0827 - acc: 0.5934 - val_loss: 1.0364 - val_acc: 0.6010\n",
            "Epoch 124/200\n",
            "28709/28709 [==============================] - 16s 556us/step - loss: 1.0867 - acc: 0.5924 - val_loss: 1.0324 - val_acc: 0.6094\n",
            "Epoch 125/200\n",
            "28709/28709 [==============================] - 16s 558us/step - loss: 1.0782 - acc: 0.5933 - val_loss: 1.0432 - val_acc: 0.6004\n",
            "Epoch 126/200\n",
            "28709/28709 [==============================] - 16s 559us/step - loss: 1.0786 - acc: 0.5933 - val_loss: 1.0456 - val_acc: 0.6010\n",
            "Epoch 127/200\n",
            "28709/28709 [==============================] - 16s 562us/step - loss: 1.0759 - acc: 0.5942 - val_loss: 1.0293 - val_acc: 0.6024\n",
            "Epoch 128/200\n",
            "28709/28709 [==============================] - 16s 558us/step - loss: 1.0780 - acc: 0.5950 - val_loss: 1.0536 - val_acc: 0.6102\n",
            "Epoch 129/200\n",
            "28709/28709 [==============================] - 16s 558us/step - loss: 1.0757 - acc: 0.5943 - val_loss: 1.0439 - val_acc: 0.6030\n",
            "Epoch 130/200\n",
            "28709/28709 [==============================] - 16s 560us/step - loss: 1.0778 - acc: 0.5953 - val_loss: 1.0395 - val_acc: 0.6002\n",
            "\n",
            "Epoch 00130: saving model to ./output-SEQ7_51_d//weights-130-0.60.h5\n",
            "Epoch 131/200\n",
            "28709/28709 [==============================] - 16s 559us/step - loss: 1.0766 - acc: 0.5940 - val_loss: 1.0497 - val_acc: 0.5988\n",
            "Epoch 132/200\n",
            "28709/28709 [==============================] - 16s 559us/step - loss: 1.0767 - acc: 0.5962 - val_loss: 1.0329 - val_acc: 0.6069\n",
            "Epoch 133/200\n",
            "28709/28709 [==============================] - 16s 560us/step - loss: 1.0814 - acc: 0.5918 - val_loss: 1.0412 - val_acc: 0.6004\n",
            "Epoch 134/200\n",
            "28709/28709 [==============================] - 16s 559us/step - loss: 1.0721 - acc: 0.5978 - val_loss: 1.0272 - val_acc: 0.6060\n",
            "Epoch 135/200\n",
            "28709/28709 [==============================] - 16s 558us/step - loss: 1.0789 - acc: 0.5915 - val_loss: 1.0317 - val_acc: 0.6096\n",
            "Epoch 136/200\n",
            "28709/28709 [==============================] - 16s 558us/step - loss: 1.0745 - acc: 0.5990 - val_loss: 1.0352 - val_acc: 0.6049\n",
            "Epoch 137/200\n",
            "28709/28709 [==============================] - 16s 558us/step - loss: 1.0694 - acc: 0.5981 - val_loss: 1.0273 - val_acc: 0.6091\n",
            "Epoch 138/200\n",
            "28709/28709 [==============================] - 16s 559us/step - loss: 1.0727 - acc: 0.5938 - val_loss: 1.0420 - val_acc: 0.6016\n",
            "Epoch 139/200\n",
            "28709/28709 [==============================] - 16s 561us/step - loss: 1.0724 - acc: 0.5951 - val_loss: 1.0314 - val_acc: 0.6096\n",
            "Epoch 140/200\n",
            "28709/28709 [==============================] - 16s 560us/step - loss: 1.0650 - acc: 0.5983 - val_loss: 1.0249 - val_acc: 0.6135\n",
            "\n",
            "Epoch 00140: saving model to ./output-SEQ7_51_d//weights-140-0.61.h5\n",
            "Epoch 141/200\n",
            "28709/28709 [==============================] - 16s 558us/step - loss: 1.0735 - acc: 0.5952 - val_loss: 1.0492 - val_acc: 0.5988\n",
            "Epoch 142/200\n",
            "28709/28709 [==============================] - 16s 557us/step - loss: 1.0715 - acc: 0.5954 - val_loss: 1.0277 - val_acc: 0.6124\n",
            "Epoch 143/200\n",
            "28709/28709 [==============================] - 16s 559us/step - loss: 1.0694 - acc: 0.5980 - val_loss: 1.0576 - val_acc: 0.6018\n",
            "Epoch 144/200\n",
            "28709/28709 [==============================] - 16s 560us/step - loss: 1.0662 - acc: 0.5982 - val_loss: 1.0358 - val_acc: 0.6096\n",
            "Epoch 145/200\n",
            "28709/28709 [==============================] - 16s 559us/step - loss: 1.0649 - acc: 0.6008 - val_loss: 1.1129 - val_acc: 0.5667\n",
            "Epoch 146/200\n",
            "28709/28709 [==============================] - 16s 559us/step - loss: 1.0700 - acc: 0.5952 - val_loss: 1.0230 - val_acc: 0.6080\n",
            "Epoch 147/200\n",
            "28709/28709 [==============================] - 16s 561us/step - loss: 1.0654 - acc: 0.5986 - val_loss: 1.0460 - val_acc: 0.6018\n",
            "Epoch 148/200\n",
            "28709/28709 [==============================] - 16s 561us/step - loss: 1.0664 - acc: 0.6000 - val_loss: 1.0412 - val_acc: 0.6035\n",
            "Epoch 149/200\n",
            "28709/28709 [==============================] - 16s 561us/step - loss: 1.0632 - acc: 0.5984 - val_loss: 1.0225 - val_acc: 0.6069\n",
            "Epoch 150/200\n",
            "28709/28709 [==============================] - 16s 560us/step - loss: 1.0639 - acc: 0.6003 - val_loss: 1.0371 - val_acc: 0.5999\n",
            "\n",
            "Epoch 00150: saving model to ./output-SEQ7_51_d//weights-150-0.60.h5\n",
            "Epoch 151/200\n",
            "28709/28709 [==============================] - 16s 566us/step - loss: 1.0569 - acc: 0.6024 - val_loss: 1.0305 - val_acc: 0.6091\n",
            "Epoch 152/200\n",
            "28709/28709 [==============================] - 16s 562us/step - loss: 1.0663 - acc: 0.5998 - val_loss: 1.0441 - val_acc: 0.5926\n",
            "Epoch 153/200\n",
            "28709/28709 [==============================] - 16s 561us/step - loss: 1.0652 - acc: 0.5999 - val_loss: 1.0360 - val_acc: 0.6063\n",
            "Epoch 154/200\n",
            "28709/28709 [==============================] - 16s 560us/step - loss: 1.0636 - acc: 0.5964 - val_loss: 1.0122 - val_acc: 0.6060\n",
            "Epoch 155/200\n",
            "28709/28709 [==============================] - 16s 560us/step - loss: 1.0606 - acc: 0.5973 - val_loss: 1.0202 - val_acc: 0.6116\n",
            "Epoch 156/200\n",
            "28709/28709 [==============================] - 16s 558us/step - loss: 1.0565 - acc: 0.5999 - val_loss: 1.0205 - val_acc: 0.6088\n",
            "Epoch 157/200\n",
            "28709/28709 [==============================] - 16s 560us/step - loss: 1.0632 - acc: 0.6016 - val_loss: 1.0107 - val_acc: 0.6110\n",
            "Epoch 158/200\n",
            "28709/28709 [==============================] - 16s 562us/step - loss: 1.0627 - acc: 0.5997 - val_loss: 1.0291 - val_acc: 0.6102\n",
            "Epoch 159/200\n",
            "28709/28709 [==============================] - 16s 560us/step - loss: 1.0602 - acc: 0.6010 - val_loss: 1.0266 - val_acc: 0.6049\n",
            "Epoch 160/200\n",
            "28709/28709 [==============================] - 16s 559us/step - loss: 1.0607 - acc: 0.6033 - val_loss: 1.0070 - val_acc: 0.6147\n",
            "\n",
            "Epoch 00160: saving model to ./output-SEQ7_51_d//weights-160-0.61.h5\n",
            "Epoch 161/200\n",
            "28709/28709 [==============================] - 16s 560us/step - loss: 1.0564 - acc: 0.6049 - val_loss: 1.0354 - val_acc: 0.6024\n",
            "Epoch 162/200\n",
            "28709/28709 [==============================] - 16s 558us/step - loss: 1.0588 - acc: 0.6039 - val_loss: 1.0411 - val_acc: 0.6116\n",
            "Epoch 163/200\n",
            "28709/28709 [==============================] - 16s 558us/step - loss: 1.0652 - acc: 0.6013 - val_loss: 1.0430 - val_acc: 0.6038\n",
            "Epoch 164/200\n",
            "28709/28709 [==============================] - 16s 560us/step - loss: 1.0518 - acc: 0.6056 - val_loss: 1.0240 - val_acc: 0.6121\n",
            "Epoch 165/200\n",
            "28709/28709 [==============================] - 16s 560us/step - loss: 1.0599 - acc: 0.6001 - val_loss: 1.0313 - val_acc: 0.6082\n",
            "Epoch 166/200\n",
            "28709/28709 [==============================] - 16s 561us/step - loss: 1.0464 - acc: 0.6058 - val_loss: 1.0131 - val_acc: 0.6110\n",
            "Epoch 167/200\n",
            "28709/28709 [==============================] - 16s 559us/step - loss: 1.0527 - acc: 0.6036 - val_loss: 1.0226 - val_acc: 0.6099\n",
            "Epoch 168/200\n",
            "28709/28709 [==============================] - 16s 560us/step - loss: 1.0550 - acc: 0.5998 - val_loss: 1.0204 - val_acc: 0.6077\n",
            "Epoch 169/200\n",
            "28709/28709 [==============================] - 16s 561us/step - loss: 1.0490 - acc: 0.6048 - val_loss: 1.0129 - val_acc: 0.6069\n",
            "Epoch 170/200\n",
            "28709/28709 [==============================] - 16s 562us/step - loss: 1.0553 - acc: 0.6027 - val_loss: 1.0234 - val_acc: 0.6152\n",
            "\n",
            "Epoch 00170: saving model to ./output-SEQ7_51_d//weights-170-0.62.h5\n",
            "Epoch 171/200\n",
            "28709/28709 [==============================] - 16s 560us/step - loss: 1.0498 - acc: 0.6063 - val_loss: 1.0221 - val_acc: 0.6091\n",
            "Epoch 172/200\n",
            "28709/28709 [==============================] - 16s 560us/step - loss: 1.0501 - acc: 0.6041 - val_loss: 1.0121 - val_acc: 0.6186\n",
            "Epoch 173/200\n",
            "28709/28709 [==============================] - 16s 559us/step - loss: 1.0554 - acc: 0.6053 - val_loss: 1.0370 - val_acc: 0.6116\n",
            "Epoch 174/200\n",
            "28709/28709 [==============================] - 16s 565us/step - loss: 1.0545 - acc: 0.6044 - val_loss: 1.0418 - val_acc: 0.6049\n",
            "Epoch 175/200\n",
            "28709/28709 [==============================] - 16s 560us/step - loss: 1.0519 - acc: 0.6016 - val_loss: 1.0241 - val_acc: 0.6141\n",
            "Epoch 176/200\n",
            "28709/28709 [==============================] - 16s 561us/step - loss: 1.0485 - acc: 0.6050 - val_loss: 1.0331 - val_acc: 0.6043\n",
            "Epoch 177/200\n",
            "28709/28709 [==============================] - 16s 561us/step - loss: 1.0445 - acc: 0.6074 - val_loss: 1.0145 - val_acc: 0.6099\n",
            "Epoch 178/200\n",
            "28709/28709 [==============================] - 16s 560us/step - loss: 1.0507 - acc: 0.6064 - val_loss: 1.0246 - val_acc: 0.6110\n",
            "Epoch 179/200\n",
            "28709/28709 [==============================] - 16s 559us/step - loss: 1.0460 - acc: 0.6053 - val_loss: 1.0328 - val_acc: 0.6099\n",
            "Epoch 180/200\n",
            "28709/28709 [==============================] - 16s 559us/step - loss: 1.0450 - acc: 0.6089 - val_loss: 1.0143 - val_acc: 0.6127\n",
            "\n",
            "Epoch 00180: saving model to ./output-SEQ7_51_d//weights-180-0.61.h5\n",
            "Epoch 181/200\n",
            "28709/28709 [==============================] - 16s 558us/step - loss: 1.0404 - acc: 0.6054 - val_loss: 1.0203 - val_acc: 0.6124\n",
            "Epoch 182/200\n",
            "28709/28709 [==============================] - 16s 561us/step - loss: 1.0382 - acc: 0.6068 - val_loss: 1.0233 - val_acc: 0.6080\n",
            "Epoch 183/200\n",
            "28709/28709 [==============================] - 16s 560us/step - loss: 1.0524 - acc: 0.6035 - val_loss: 1.0121 - val_acc: 0.6177\n",
            "Epoch 184/200\n",
            "28709/28709 [==============================] - 16s 561us/step - loss: 1.0441 - acc: 0.6088 - val_loss: 1.0346 - val_acc: 0.6088\n",
            "Epoch 185/200\n",
            "28709/28709 [==============================] - 16s 560us/step - loss: 1.0381 - acc: 0.6077 - val_loss: 1.0230 - val_acc: 0.6108\n",
            "Epoch 186/200\n",
            "28709/28709 [==============================] - 16s 560us/step - loss: 1.0504 - acc: 0.6034 - val_loss: 1.0152 - val_acc: 0.6096\n",
            "Epoch 187/200\n",
            "28709/28709 [==============================] - 16s 562us/step - loss: 1.0386 - acc: 0.6101 - val_loss: 1.0238 - val_acc: 0.6183\n",
            "Epoch 188/200\n",
            "28709/28709 [==============================] - 16s 563us/step - loss: 1.0514 - acc: 0.6024 - val_loss: 1.0172 - val_acc: 0.6194\n",
            "Epoch 189/200\n",
            "28709/28709 [==============================] - 16s 561us/step - loss: 1.0413 - acc: 0.6081 - val_loss: 1.0147 - val_acc: 0.6158\n",
            "Epoch 190/200\n",
            "28709/28709 [==============================] - 16s 561us/step - loss: 1.0412 - acc: 0.6089 - val_loss: 1.0124 - val_acc: 0.6099\n",
            "\n",
            "Epoch 00190: saving model to ./output-SEQ7_51_d//weights-190-0.61.h5\n",
            "Epoch 191/200\n",
            "28709/28709 [==============================] - 16s 562us/step - loss: 1.0348 - acc: 0.6083 - val_loss: 1.0333 - val_acc: 0.6052\n",
            "Epoch 192/200\n",
            "28709/28709 [==============================] - 16s 562us/step - loss: 1.0399 - acc: 0.6062 - val_loss: 1.0359 - val_acc: 0.6135\n",
            "Epoch 193/200\n",
            "28709/28709 [==============================] - 16s 561us/step - loss: 1.0417 - acc: 0.6089 - val_loss: 1.0039 - val_acc: 0.6180\n",
            "Epoch 194/200\n",
            "28709/28709 [==============================] - 16s 562us/step - loss: 1.0353 - acc: 0.6109 - val_loss: 1.0100 - val_acc: 0.6138\n",
            "Epoch 195/200\n",
            "28709/28709 [==============================] - 16s 561us/step - loss: 1.0377 - acc: 0.6089 - val_loss: 1.0219 - val_acc: 0.6172\n",
            "Epoch 196/200\n",
            "28709/28709 [==============================] - 16s 562us/step - loss: 1.0426 - acc: 0.6091 - val_loss: 1.0040 - val_acc: 0.6172\n",
            "Epoch 197/200\n",
            "28709/28709 [==============================] - 16s 560us/step - loss: 1.0389 - acc: 0.6080 - val_loss: 1.0070 - val_acc: 0.6188\n",
            "Epoch 198/200\n",
            "28709/28709 [==============================] - 16s 561us/step - loss: 1.0395 - acc: 0.6092 - val_loss: 1.0048 - val_acc: 0.6183\n",
            "Epoch 199/200\n",
            "28709/28709 [==============================] - 16s 561us/step - loss: 1.0388 - acc: 0.6106 - val_loss: 1.0293 - val_acc: 0.6113\n",
            "Epoch 200/200\n",
            "28709/28709 [==============================] - 16s 558us/step - loss: 1.0289 - acc: 0.6123 - val_loss: 1.0170 - val_acc: 0.6174\n",
            "\n",
            "Epoch 00200: saving model to ./output-SEQ7_51_d//weights-200-0.62.h5\n"
          ],
          "name": "stdout"
        }
      ]
    },
    {
      "metadata": {
        "id": "2XcjUngzAHC6",
        "colab_type": "text"
      },
      "cell_type": "markdown",
      "source": [
        "## ***the accuracy is 62%***"
      ]
    },
    {
      "metadata": {
        "id": "GIji8m1N8tpP",
        "colab_type": "code",
        "colab": {
          "base_uri": "https://localhost:8080/",
          "height": 34
        },
        "outputId": "02ff0329-627b-46a8-cbc8-b4f08b3b071f"
      },
      "cell_type": "code",
      "source": [
        "!ls"
      ],
      "execution_count": 21,
      "outputs": [
        {
          "output_type": "stream",
          "text": [
            "adc.json  fer2013.csv  output-SEQ7_51_d  sample_data\n"
          ],
          "name": "stdout"
        }
      ]
    },
    {
      "metadata": {
        "id": "06Fa_ap88r6z",
        "colab_type": "code",
        "colab": {}
      },
      "cell_type": "code",
      "source": [
        "def plot_model_history(model_history):\n",
        "    fig, axs = plt.subplots(1,2,figsize=(15,5))\n",
        "    # summarize history for accuracy\n",
        "    axs[0].plot(range(1,len(model_history.history['acc'])+1),model_history.history['acc'])\n",
        "    axs[0].plot(range(1,len(model_history.history['val_acc'])+1),model_history.history['val_acc'])\n",
        "    axs[0].set_title('Model Accuracy')\n",
        "    axs[0].set_ylabel('Accuracy')\n",
        "    axs[0].set_xlabel('Epoch')\n",
        "    axs[0].set_xticks(np.arange(1,len(model_history.history['acc'])+1),len(model_history.history['acc'])/10)\n",
        "    axs[0].legend(['train', 'val'], loc='best')\n",
        "    # summarize history for loss\n",
        "    axs[1].plot(range(1,len(model_history.history['loss'])+1),model_history.history['loss'])\n",
        "    axs[1].plot(range(1,len(model_history.history['val_loss'])+1),model_history.history['val_loss'])\n",
        "    axs[1].set_title('Model Loss')\n",
        "    axs[1].set_ylabel('Loss')\n",
        "    axs[1].set_xlabel('Epoch')\n",
        "    axs[1].set_xticks(np.arange(1,len(model_history.history['loss'])+1),len(model_history.history['loss'])/10)\n",
        "    axs[1].legend(['train', 'val'], loc='best')\n",
        "    plt.show()"
      ],
      "execution_count": 0,
      "outputs": []
    },
    {
      "metadata": {
        "id": "0hBlW6eUAT8c",
        "colab_type": "text"
      },
      "cell_type": "markdown",
      "source": [
        "### **plot accuracy per epoch**"
      ]
    },
    {
      "metadata": {
        "id": "v_OcwOtJKT_G",
        "colab_type": "code",
        "colab": {
          "base_uri": "https://localhost:8080/",
          "height": 348
        },
        "outputId": "79fe0d80-5ae0-4d87-c3a1-8b6390fdeb5e"
      },
      "cell_type": "code",
      "source": [
        "plot_model_history(model_info)"
      ],
      "execution_count": 23,
      "outputs": [
        {
          "output_type": "display_data",
          "data": {
            "image/png": "[encoded data removed]",
            "text/plain": [
              "<matplotlib.figure.Figure at 0x7f26b9d0d2b0>"
            ]
          },
          "metadata": {
            "tags": []
          }
        }
      ]
    },
    {
      "metadata": {
        "id": "4SRbDWGyWylq",
        "colab_type": "code",
        "colab": {}
      },
      "cell_type": "code",
      "source": [
        "y_pred = model.predict(X_train)"
      ],
      "execution_count": 0,
      "outputs": []
    },
    {
      "metadata": {
        "id": "fCQVYOPChvhx",
        "colab_type": "code",
        "colab": {}
      },
      "cell_type": "code",
      "source": [
        "# 0=Angry, 1=Disgust, 2=Fear, 3=Happy, 4=Sad, 5=Surprise, 6=Neutral\n",
        "class_names = ['Angry', 'Disgust', 'Fear', 'Happy', 'sad', 'Surprise', 'Neutral']"
      ],
      "execution_count": 0,
      "outputs": []
    },
    {
      "metadata": {
        "id": "w868SMFGAev0",
        "colab_type": "text"
      },
      "cell_type": "markdown",
      "source": [
        "### **plot the confusion matrix of the train data**"
      ]
    },
    {
      "metadata": {
        "id": "dBB2hlmdhUGj",
        "colab_type": "code",
        "colab": {
          "base_uri": "https://localhost:8080/",
          "height": 890
        },
        "outputId": "a3034e41-1d24-4dae-e96a-ae8f0a9c264f"
      },
      "cell_type": "code",
      "source": [
        "import itertools\n",
        "\n",
        "def plot_confusion_matrix(cm, classes,\n",
        "                          normalize=False,\n",
        "                          title='Confusion matrix',\n",
        "                          cmap=plt.cm.Blues):\n",
        "    \"\"\"\n",
        "    This function prints and plots the confusion matrix.\n",
        "    Normalization can be applied by setting `normalize=True`.\n",
        "    \"\"\"\n",
        "    if normalize:\n",
        "        cm = cm.astype('float') / cm.sum(axis=1)[:, np.newaxis]\n",
        "        print(\"Normalized confusion matrix\")\n",
        "    else:\n",
        "        print('Confusion matrix, without normalization')\n",
        "\n",
        "    print(cm)\n",
        "\n",
        "    plt.imshow(cm, interpolation='nearest', cmap=cmap)\n",
        "    plt.title(title)\n",
        "    plt.colorbar()\n",
        "    tick_marks = np.arange(len(classes))\n",
        "    plt.xticks(tick_marks, classes, rotation=45)\n",
        "    plt.yticks(tick_marks, classes)\n",
        "\n",
        "    fmt = '.2f' if normalize else 'd'\n",
        "    thresh = cm.max() / 2.\n",
        "    for i, j in itertools.product(range(cm.shape[0]), range(cm.shape[1])):\n",
        "        plt.text(j, i, format(cm[i, j], fmt),\n",
        "                 horizontalalignment=\"center\",\n",
        "                 color=\"white\" if cm[i, j] > thresh else \"black\")\n",
        "\n",
        "    plt.tight_layout()\n",
        "    plt.ylabel('True label')\n",
        "    plt.xlabel('Predicted label')\n",
        "\n",
        "# Compute confusion matrix\n",
        "cnf_matrix = confusion_matrix(y_train.argmax(axis=1), y_pred.argmax(axis=1))\n",
        "np.set_printoptions(precision=2)\n",
        "\n",
        "# Plot non-normalized confusion matrix\n",
        "plt.figure()\n",
        "plot_confusion_matrix(cnf_matrix, classes=class_names,\n",
        "                      title='Confusion matrix, without normalization')\n",
        "\n",
        "# Plot normalized confusion matrix\n",
        "plt.figure()\n",
        "plot_confusion_matrix(cnf_matrix, classes=class_names, normalize=True,\n",
        "                      title='Normalized confusion matrix')\n",
        "\n",
        "plt.show()"
      ],
      "execution_count": 26,
      "outputs": [
        {
          "output_type": "stream",
          "text": [
            "Confusion matrix, without normalization\n",
            "[[2507   19  129  172  459   70  639]\n",
            " [ 131  211   11    9   46   11   17]\n",
            " [ 502   17 1415  167 1027  479  490]\n",
            " [  92    0   41 6520  165   98  299]\n",
            " [ 387   11  199  138 3001   38 1056]\n",
            " [  63    2  127  163   52 2649  115]\n",
            " [ 266    1   75  314  576   55 3678]]\n",
            "Normalized confusion matrix\n",
            "[[6.28e-01 4.76e-03 3.23e-02 4.31e-02 1.15e-01 1.75e-02 1.60e-01]\n",
            " [3.00e-01 4.84e-01 2.52e-02 2.06e-02 1.06e-01 2.52e-02 3.90e-02]\n",
            " [1.23e-01 4.15e-03 3.45e-01 4.08e-02 2.51e-01 1.17e-01 1.20e-01]\n",
            " [1.28e-02 0.00e+00 5.68e-03 9.04e-01 2.29e-02 1.36e-02 4.14e-02]\n",
            " [8.01e-02 2.28e-03 4.12e-02 2.86e-02 6.21e-01 7.87e-03 2.19e-01]\n",
            " [1.99e-02 6.31e-04 4.01e-02 5.14e-02 1.64e-02 8.35e-01 3.63e-02]\n",
            " [5.36e-02 2.01e-04 1.51e-02 6.32e-02 1.16e-01 1.11e-02 7.41e-01]]\n"
          ],
          "name": "stdout"
        },
        {
          "output_type": "display_data",
          "data": {
            "image/png": "[encoded data removed]",
            "text/plain": [
              "<matplotlib.figure.Figure at 0x7f26b9a1c518>"
            ]
          },
          "metadata": {
            "tags": []
          }
        },
        {
          "output_type": "display_data",
          "data": {
            "image/png": "[encoded data removed]",
            "text/plain": [
              "<matplotlib.figure.Figure at 0x7f26b9b61ac8>"
            ]
          },
          "metadata": {
            "tags": []
          }
        }
      ]
    },
    {
      "metadata": {
        "id": "l1wMPjV0291Z",
        "colab_type": "code",
        "colab": {}
      },
      "cell_type": "code",
      "source": [
        "y_pred = model.predict(X_cv)"
      ],
      "execution_count": 0,
      "outputs": []
    },
    {
      "metadata": {
        "id": "jeyDFdumAr_v",
        "colab_type": "text"
      },
      "cell_type": "markdown",
      "source": [
        "### **plot the confusion matrix of the test data**"
      ]
    },
    {
      "metadata": {
        "id": "o49mKvrv291d",
        "colab_type": "code",
        "colab": {
          "base_uri": "https://localhost:8080/",
          "height": 890
        },
        "outputId": "85245385-bff7-4190-bf86-e637bce1c3a1"
      },
      "cell_type": "code",
      "source": [
        "import itertools\n",
        "\n",
        "def plot_confusion_matrix(cm, classes,\n",
        "                          normalize=False,\n",
        "                          title='Confusion matrix',\n",
        "                          cmap=plt.cm.Blues):\n",
        "    \"\"\"\n",
        "    This function prints and plots the confusion matrix.\n",
        "    Normalization can be applied by setting `normalize=True`.\n",
        "    \"\"\"\n",
        "    if normalize:\n",
        "        cm = cm.astype('float') / cm.sum(axis=1)[:, np.newaxis]\n",
        "        print(\"Normalized confusion matrix\")\n",
        "    else:\n",
        "        print('Confusion matrix, without normalization')\n",
        "\n",
        "    print(cm)\n",
        "\n",
        "    plt.imshow(cm, interpolation='nearest', cmap=cmap)\n",
        "    plt.title(title)\n",
        "    plt.colorbar()\n",
        "    tick_marks = np.arange(len(classes))\n",
        "    plt.xticks(tick_marks, classes, rotation=45)\n",
        "    plt.yticks(tick_marks, classes)\n",
        "\n",
        "    fmt = '.2f' if normalize else 'd'\n",
        "    thresh = cm.max() / 2.\n",
        "    for i, j in itertools.product(range(cm.shape[0]), range(cm.shape[1])):\n",
        "        plt.text(j, i, format(cm[i, j], fmt),\n",
        "                 horizontalalignment=\"center\",\n",
        "                 color=\"white\" if cm[i, j] > thresh else \"black\")\n",
        "\n",
        "    plt.tight_layout()\n",
        "    plt.ylabel('True label')\n",
        "    plt.xlabel('Predicted label')\n",
        "\n",
        "# Compute confusion matrix\n",
        "cnf_matrix = confusion_matrix(y_cv.argmax(axis=1), y_pred.argmax(axis=1))\n",
        "np.set_printoptions(precision=2)\n",
        "\n",
        "# Plot non-normalized confusion matrix\n",
        "plt.figure()\n",
        "plot_confusion_matrix(cnf_matrix, classes=class_names,\n",
        "                      title='Confusion matrix, without normalization')\n",
        "\n",
        "# Plot normalized confusion matrix\n",
        "plt.figure()\n",
        "plot_confusion_matrix(cnf_matrix, classes=class_names, normalize=True,\n",
        "                      title='Normalized confusion matrix')\n",
        "\n",
        "plt.show()"
      ],
      "execution_count": 28,
      "outputs": [
        {
          "output_type": "stream",
          "text": [
            "Confusion matrix, without normalization\n",
            "[[253   3  24  28  69  17  73]\n",
            " [ 18  21   2   3   5   2   5]\n",
            " [ 65   1 119  25 146  62  78]\n",
            " [ 21   1  12 750  21  23  67]\n",
            " [ 66   0  31  45 348  11 152]\n",
            " [  7   0  16  22  15 339  16]\n",
            " [ 42   1  20  51  97  10 386]]\n",
            "Normalized confusion matrix\n",
            "[[0.54 0.01 0.05 0.06 0.15 0.04 0.16]\n",
            " [0.32 0.38 0.04 0.05 0.09 0.04 0.09]\n",
            " [0.13 0.   0.24 0.05 0.29 0.12 0.16]\n",
            " [0.02 0.   0.01 0.84 0.02 0.03 0.07]\n",
            " [0.1  0.   0.05 0.07 0.53 0.02 0.23]\n",
            " [0.02 0.   0.04 0.05 0.04 0.82 0.04]\n",
            " [0.07 0.   0.03 0.08 0.16 0.02 0.64]]\n"
          ],
          "name": "stdout"
        },
        {
          "output_type": "display_data",
          "data": {
            "image/png": "[encoded data removed]",
            "text/plain": [
              "<matplotlib.figure.Figure at 0x7f26b9ce1358>"
            ]
          },
          "metadata": {
            "tags": []
          }
        },
        {
          "output_type": "display_data",
          "data": {
            "image/png": "[encoded data removed]",
            "text/plain": [
              "<matplotlib.figure.Figure at 0x7f26b6e006d8>"
            ]
          },
          "metadata": {
            "tags": []
          }
        }
      ]
    }
  ]
}